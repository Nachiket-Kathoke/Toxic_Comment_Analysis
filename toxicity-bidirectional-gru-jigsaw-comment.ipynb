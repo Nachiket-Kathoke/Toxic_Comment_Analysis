{
 "cells": [
  {
   "cell_type": "markdown",
   "metadata": {},
   "source": [
    "## Here we are treating it as a Classification problem.\n",
    "\n",
    "## The final score is the probability predicted by the Model."
   ]
  },
  {
   "cell_type": "code",
   "execution_count": 1,
   "metadata": {
    "_cell_guid": "b1076dfc-b9ad-4769-8c92-a6c4dae69d19",
    "_uuid": "8f2839f25d086af736a60e9eeb907d3b93b6e0e5",
    "execution": {
     "iopub.execute_input": "2023-02-09T08:23:33.517123Z",
     "iopub.status.busy": "2023-02-09T08:23:33.516824Z",
     "iopub.status.idle": "2023-02-09T08:23:33.522867Z",
     "shell.execute_reply": "2023-02-09T08:23:33.522095Z",
     "shell.execute_reply.started": "2023-02-09T08:23:33.517093Z"
    }
   },
   "outputs": [],
   "source": [
    "# Importing libraries\n",
    "\n",
    "import math\n",
    "import os\n",
    "import random\n",
    "import numpy as np\n",
    "import pandas as pd\n",
    "import re\n",
    "import unidecode\n",
    "\n",
    "from sklearn.model_selection import StratifiedKFold\n",
    "from sklearn.metrics import accuracy_score\n",
    "from bs4 import BeautifulSoup\n",
    "from nltk.corpus import stopwords\n",
    "from nltk.tokenize import word_tokenize\n",
    "from imblearn.under_sampling import RandomUnderSampler\n",
    "\n",
    "import tensorflow as tf\n",
    "from tensorflow.keras.layers import Dense, Dropout, GRU, Embedding, Bidirectional\n",
    "from tensorflow.keras.models import Sequential\n",
    "from tensorflow.keras.preprocessing.text import Tokenizer\n",
    "from tensorflow.keras.preprocessing.sequence import pad_sequences\n",
    "from tensorflow.keras.callbacks import EarlyStopping"
   ]
  },
  {
   "cell_type": "code",
   "execution_count": 2,
   "metadata": {
    "execution": {
     "iopub.execute_input": "2023-02-09T08:23:35.272858Z",
     "iopub.status.busy": "2023-02-09T08:23:35.272105Z",
     "iopub.status.idle": "2023-02-09T08:23:35.278489Z",
     "shell.execute_reply": "2023-02-09T08:23:35.277538Z",
     "shell.execute_reply.started": "2023-02-09T08:23:35.272820Z"
    }
   },
   "outputs": [],
   "source": [
    "# Defining constants\n",
    "\n",
    "voc_size = 50000\n",
    "max_sequence_length = 250\n",
    "embedding_dim = 100\n",
    "Batch_size = 16\n",
    "\n",
    "train_prev_comp = \"jigsaw-toxic-comment-train.csv\"\n",
    "test_cur_comp = \"comments_to_score.csv\"\n",
    "\n",
    "\n",
    "def seed_everything():\n",
    "    np.random.seed(123)\n",
    "    random.seed(123)\n",
    "    tf.random.set_seed(123)\n",
    "    os.environ[\"TF_CPP_MIN_LOG_LEVEL\"] = '2'\n",
    "    os.environ['PYTHONHASHSEED'] = str(123)\n",
    "\n",
    "seed_everything()"
   ]
  },
  {
   "cell_type": "code",
   "execution_count": 3,
   "metadata": {
    "execution": {
     "iopub.execute_input": "2023-02-09T08:23:37.034118Z",
     "iopub.status.busy": "2023-02-09T08:23:37.033855Z",
     "iopub.status.idle": "2023-02-09T08:23:37.041610Z",
     "shell.execute_reply": "2023-02-09T08:23:37.040464Z",
     "shell.execute_reply.started": "2023-02-09T08:23:37.034088Z"
    }
   },
   "outputs": [],
   "source": [
    "# Function for cleaning comments\n",
    "\n",
    "def clean_data(data):\n",
    "    final = []\n",
    "    for sent in data:\n",
    "        sent = sent.replace('\\\\n', ' ').replace('\\n', ' ').replace('\\t',' ').replace('\\\\', ' ').replace('. com', '.com')\n",
    "        soup = BeautifulSoup(sent, \"html.parser\")\n",
    "        sent = soup.get_text(separator=\" \")\n",
    "        remove_https = re.sub(r'http\\S+', '', sent)\n",
    "        sent = re.sub(r\"\\ [A-Za-z]*\\.com\", \" \", remove_https)\n",
    "        sent = unidecode.unidecode(sent)\n",
    "        sent = sent.lower()\n",
    "        sent = re.sub(r\"[^a-zA-Z0-9:$-,()%.?!]+\", ' ', sent) \n",
    "        sent = re.sub(r\"[:$-,()%.?!]+\", ' ',sent)\n",
    "        stoplist = stopwords.words(\"english\")\n",
    "        sent = [word for word in word_tokenize(sent) if word not in stoplist]\n",
    "        sent = \" \".join(sent)\n",
    "        final.append(sent)\n",
    "    \n",
    "    return final"
   ]
  },
  {
   "cell_type": "code",
   "execution_count": 4,
   "metadata": {
    "execution": {
     "iopub.execute_input": "2023-02-09T08:23:39.223968Z",
     "iopub.status.busy": "2023-02-09T08:23:39.223705Z",
     "iopub.status.idle": "2023-02-09T08:23:40.415918Z",
     "shell.execute_reply": "2023-02-09T08:23:40.415042Z",
     "shell.execute_reply.started": "2023-02-09T08:23:39.223940Z"
    }
   },
   "outputs": [
    {
     "data": {
      "text/html": [
       "<div>\n",
       "<style scoped>\n",
       "    .dataframe tbody tr th:only-of-type {\n",
       "        vertical-align: middle;\n",
       "    }\n",
       "\n",
       "    .dataframe tbody tr th {\n",
       "        vertical-align: top;\n",
       "    }\n",
       "\n",
       "    .dataframe thead th {\n",
       "        text-align: right;\n",
       "    }\n",
       "</style>\n",
       "<table border=\"1\" class=\"dataframe\">\n",
       "  <thead>\n",
       "    <tr style=\"text-align: right;\">\n",
       "      <th></th>\n",
       "      <th>comment_text</th>\n",
       "      <th>y</th>\n",
       "    </tr>\n",
       "  </thead>\n",
       "  <tbody>\n",
       "    <tr>\n",
       "      <th>0</th>\n",
       "      <td>Explanation\\nWhy the edits made under my usern...</td>\n",
       "      <td>0</td>\n",
       "    </tr>\n",
       "    <tr>\n",
       "      <th>1</th>\n",
       "      <td>D'aww! He matches this background colour I'm s...</td>\n",
       "      <td>0</td>\n",
       "    </tr>\n",
       "    <tr>\n",
       "      <th>2</th>\n",
       "      <td>Hey man, I'm really not trying to edit war. It...</td>\n",
       "      <td>0</td>\n",
       "    </tr>\n",
       "    <tr>\n",
       "      <th>3</th>\n",
       "      <td>\"\\nMore\\nI can't make any real suggestions on ...</td>\n",
       "      <td>0</td>\n",
       "    </tr>\n",
       "    <tr>\n",
       "      <th>4</th>\n",
       "      <td>You, sir, are my hero. Any chance you remember...</td>\n",
       "      <td>0</td>\n",
       "    </tr>\n",
       "  </tbody>\n",
       "</table>\n",
       "</div>"
      ],
      "text/plain": [
       "                                        comment_text  y\n",
       "0  Explanation\\nWhy the edits made under my usern...  0\n",
       "1  D'aww! He matches this background colour I'm s...  0\n",
       "2  Hey man, I'm really not trying to edit war. It...  0\n",
       "3  \"\\nMore\\nI can't make any real suggestions on ...  0\n",
       "4  You, sir, are my hero. Any chance you remember...  0"
      ]
     },
     "execution_count": 4,
     "metadata": {},
     "output_type": "execute_result"
    }
   ],
   "source": [
    "# Reading train file from previous competition\n",
    "\n",
    "df = pd.read_csv(train_prev_comp)\n",
    "\n",
    "\n",
    "df[\"y\"] = (df[[\"toxic\", \"severe_toxic\", \"obscene\", \"threat\", \"insult\", \"identity_hate\"]].sum(axis=1) > 0).astype(int)\n",
    "df.drop([\"id\",\"toxic\", \"severe_toxic\", \"obscene\", \"threat\", \"insult\", \"identity_hate\"], axis=1, inplace = True)\n",
    "df.head()"
   ]
  },
  {
   "cell_type": "code",
   "execution_count": 5,
   "metadata": {
    "execution": {
     "iopub.execute_input": "2023-02-09T08:23:41.621789Z",
     "iopub.status.busy": "2023-02-09T08:23:41.621518Z",
     "iopub.status.idle": "2023-02-09T08:23:41.630569Z",
     "shell.execute_reply": "2023-02-09T08:23:41.629742Z",
     "shell.execute_reply.started": "2023-02-09T08:23:41.621758Z"
    }
   },
   "outputs": [
    {
     "data": {
      "text/plain": [
       "0    201081\n",
       "1     22468\n",
       "Name: y, dtype: int64"
      ]
     },
     "execution_count": 5,
     "metadata": {},
     "output_type": "execute_result"
    }
   ],
   "source": [
    "# Seeing that dataset is imbalanced\n",
    "\n",
    "df[\"y\"].value_counts()"
   ]
  },
  {
   "cell_type": "code",
   "execution_count": 6,
   "metadata": {
    "execution": {
     "iopub.execute_input": "2023-02-09T08:23:43.901862Z",
     "iopub.status.busy": "2023-02-09T08:23:43.901111Z",
     "iopub.status.idle": "2023-02-09T08:23:43.977117Z",
     "shell.execute_reply": "2023-02-09T08:23:43.976265Z",
     "shell.execute_reply.started": "2023-02-09T08:23:43.901825Z"
    }
   },
   "outputs": [
    {
     "data": {
      "text/plain": [
       "0    22468\n",
       "1    22468\n",
       "Name: target, dtype: int64"
      ]
     },
     "execution_count": 6,
     "metadata": {},
     "output_type": "execute_result"
    }
   ],
   "source": [
    "# Balacing dataset\n",
    "\n",
    "X = np.array(df[\"comment_text\"].values)\n",
    "X = X.reshape(-1,1)\n",
    "y = np.array(df[\"y\"].values)\n",
    "rus = RandomUnderSampler(random_state=0)\n",
    "x, y = rus.fit_resample(X, y)\n",
    "\n",
    "x = x.flatten()\n",
    "df = pd.DataFrame()\n",
    "df[\"text\"] = x\n",
    "df[\"target\"] = y\n",
    "\n",
    "\n",
    "# Now its balanced\n",
    "\n",
    "df[\"target\"].value_counts()"
   ]
  },
  {
   "cell_type": "code",
   "execution_count": 7,
   "metadata": {
    "execution": {
     "iopub.execute_input": "2023-02-09T08:23:45.967518Z",
     "iopub.status.busy": "2023-02-09T08:23:45.967235Z",
     "iopub.status.idle": "2023-02-09T08:24:20.055989Z",
     "shell.execute_reply": "2023-02-09T08:24:20.055180Z",
     "shell.execute_reply.started": "2023-02-09T08:23:45.967490Z"
    }
   },
   "outputs": [
    {
     "name": "stderr",
     "output_type": "stream",
     "text": [
      "C:\\Users\\nachi\\anaconda3\\envs\\tf\\lib\\site-packages\\bs4\\__init__.py:435: MarkupResemblesLocatorWarning: The input looks more like a filename than markup. You may want to open this file and pass the filehandle into Beautiful Soup.\n",
      "  warnings.warn(\n"
     ]
    },
    {
     "data": {
      "text/html": [
       "<div>\n",
       "<style scoped>\n",
       "    .dataframe tbody tr th:only-of-type {\n",
       "        vertical-align: middle;\n",
       "    }\n",
       "\n",
       "    .dataframe tbody tr th {\n",
       "        vertical-align: top;\n",
       "    }\n",
       "\n",
       "    .dataframe thead th {\n",
       "        text-align: right;\n",
       "    }\n",
       "</style>\n",
       "<table border=\"1\" class=\"dataframe\">\n",
       "  <thead>\n",
       "    <tr style=\"text-align: right;\">\n",
       "      <th></th>\n",
       "      <th>text</th>\n",
       "      <th>target</th>\n",
       "    </tr>\n",
       "  </thead>\n",
       "  <tbody>\n",
       "    <tr>\n",
       "      <th>0</th>\n",
       "      <td>tyrrell head nutcase</td>\n",
       "      <td>0</td>\n",
       "    </tr>\n",
       "    <tr>\n",
       "      <th>1</th>\n",
       "      <td>sockpuppet template give comment made laugh pu...</td>\n",
       "      <td>0</td>\n",
       "    </tr>\n",
       "    <tr>\n",
       "      <th>2</th>\n",
       "      <td>similar arguments made local cultural traditio...</td>\n",
       "      <td>0</td>\n",
       "    </tr>\n",
       "    <tr>\n",
       "      <th>3</th>\n",
       "      <td>invitation take part study wikipedian studying...</td>\n",
       "      <td>0</td>\n",
       "    </tr>\n",
       "    <tr>\n",
       "      <th>4</th>\n",
       "      <td>hier hast du du bloder affe</td>\n",
       "      <td>0</td>\n",
       "    </tr>\n",
       "  </tbody>\n",
       "</table>\n",
       "</div>"
      ],
      "text/plain": [
       "                                                text  target\n",
       "0                               tyrrell head nutcase       0\n",
       "1  sockpuppet template give comment made laugh pu...       0\n",
       "2  similar arguments made local cultural traditio...       0\n",
       "3  invitation take part study wikipedian studying...       0\n",
       "4                        hier hast du du bloder affe       0"
      ]
     },
     "execution_count": 7,
     "metadata": {},
     "output_type": "execute_result"
    }
   ],
   "source": [
    "# Creating column clean_text for cleaned comments\n",
    "\n",
    "df[\"text\"] = clean_data(df[\"text\"])\n",
    "df.head()"
   ]
  },
  {
   "cell_type": "code",
   "execution_count": 8,
   "metadata": {
    "execution": {
     "iopub.execute_input": "2023-02-09T08:24:20.058237Z",
     "iopub.status.busy": "2023-02-09T08:24:20.057936Z",
     "iopub.status.idle": "2023-02-09T08:24:20.065965Z",
     "shell.execute_reply": "2023-02-09T08:24:20.065067Z",
     "shell.execute_reply.started": "2023-02-09T08:24:20.058192Z"
    }
   },
   "outputs": [],
   "source": [
    "# Defining keras Model with GRU units\n",
    "\n",
    "class GRU_model(tf.keras.Model):\n",
    "    def __init__(self):\n",
    "        super().__init__()\n",
    "        self.Embedding = Embedding(voc_size, embedding_dim, input_length = max_sequence_length)\n",
    "        self.GRU1 = Bidirectional(GRU(128, return_sequences=True))\n",
    "        self.Dropout1 = Dropout(0.25)\n",
    "        self.GRU2 = Bidirectional(GRU(64, return_sequences = False))\n",
    "        self.Dropout2 = Dropout(0.25)\n",
    "        self.Dense1 = Dense(64, activation=\"relu\")\n",
    "        self.Dropout3 = Dropout(0.2)\n",
    "        self.Dense2 = Dense(1, activation=\"sigmoid\")\n",
    "    \n",
    "    def call(self, inputs):\n",
    "        x = self.Embedding(inputs)\n",
    "        x = self.GRU1(x)\n",
    "        x = self.Dropout1(x)\n",
    "        x = self.GRU2(x)\n",
    "        x = self.Dropout2(x)\n",
    "        x = self.Dense1(x)\n",
    "        x = self.Dropout3(x)\n",
    "        x = self.Dense2(x)\n",
    "        \n",
    "        return x"
   ]
  },
  {
   "cell_type": "code",
   "execution_count": 9,
   "metadata": {
    "execution": {
     "iopub.execute_input": "2023-02-09T08:24:20.067824Z",
     "iopub.status.busy": "2023-02-09T08:24:20.067373Z",
     "iopub.status.idle": "2023-02-09T08:24:20.078184Z",
     "shell.execute_reply": "2023-02-09T08:24:20.077437Z",
     "shell.execute_reply.started": "2023-02-09T08:24:20.067786Z"
    }
   },
   "outputs": [],
   "source": [
    "# Using early_stopping as callback function \n",
    "# It takes the weigths of epoch with the best val_accuracy\n",
    "\n",
    "early_stopping = EarlyStopping(patience = 5,restore_best_weights = True)"
   ]
  },
  {
   "cell_type": "code",
   "execution_count": 10,
   "metadata": {
    "execution": {
     "iopub.execute_input": "2023-02-09T08:24:20.080863Z",
     "iopub.status.busy": "2023-02-09T08:24:20.080571Z",
     "iopub.status.idle": "2023-02-09T08:24:23.337912Z",
     "shell.execute_reply": "2023-02-09T08:24:23.337134Z",
     "shell.execute_reply.started": "2023-02-09T08:24:20.080823Z"
    }
   },
   "outputs": [],
   "source": [
    "# Tokenizing the comments from train dataset\n",
    "\n",
    "tokenizer = Tokenizer(num_words = voc_size)\n",
    "tokenizer.fit_on_texts(df[\"text\"].values)\n",
    "X = tokenizer.texts_to_sequences(df[\"text\"].values)\n",
    "X = pad_sequences(X, maxlen = max_sequence_length)"
   ]
  },
  {
   "cell_type": "code",
   "execution_count": 11,
   "metadata": {
    "execution": {
     "iopub.execute_input": "2023-02-09T08:24:23.339525Z",
     "iopub.status.busy": "2023-02-09T08:24:23.339271Z",
     "iopub.status.idle": "2023-02-09T08:34:06.949782Z",
     "shell.execute_reply": "2023-02-09T08:34:06.949043Z",
     "shell.execute_reply.started": "2023-02-09T08:24:23.339487Z"
    }
   },
   "outputs": [
    {
     "name": "stdout",
     "output_type": "stream",
     "text": [
      "Epoch 1/10\n",
      "2247/2247 [==============================] - 2378s 1s/step - loss: 0.2934 - accuracy: 0.8765 - val_loss: 0.2133 - val_accuracy: 0.9232\n",
      "Epoch 2/10\n",
      "2247/2247 [==============================] - 1733s 771ms/step - loss: 0.1627 - accuracy: 0.9380 - val_loss: 0.2561 - val_accuracy: 0.9038\n",
      "Epoch 3/10\n",
      "2247/2247 [==============================] - 1368s 609ms/step - loss: 0.0934 - accuracy: 0.9664 - val_loss: 0.2967 - val_accuracy: 0.8986\n",
      "Epoch 4/10\n",
      "2247/2247 [==============================] - 1453s 647ms/step - loss: 0.0548 - accuracy: 0.9808 - val_loss: 0.3738 - val_accuracy: 0.9064\n",
      "Epoch 5/10\n",
      "2247/2247 [==============================] - 1230s 547ms/step - loss: 0.0333 - accuracy: 0.9893 - val_loss: 0.5267 - val_accuracy: 0.8721\n",
      "Epoch 6/10\n",
      "2247/2247 [==============================] - 1194s 531ms/step - loss: 0.0220 - accuracy: 0.9930 - val_loss: 0.3646 - val_accuracy: 0.8956\n"
     ]
    },
    {
     "data": {
      "text/plain": [
       "<keras.callbacks.History at 0x1d2850af670>"
      ]
     },
     "execution_count": 11,
     "metadata": {},
     "output_type": "execute_result"
    }
   ],
   "source": [
    "model = GRU_model()\n",
    "model.compile(\n",
    "        loss = tf.keras.losses.BinaryCrossentropy(),\n",
    "        optimizer = \"Adam\",\n",
    "        metrics = [\"accuracy\"]\n",
    "    )\n",
    "\n",
    "\n",
    "model.fit(\n",
    "        X, \n",
    "        df.target, \n",
    "        epochs = 10, \n",
    "        validation_split = 0.2,\n",
    "        batch_size = Batch_size, \n",
    "        callbacks = [early_stopping]\n",
    "    )"
   ]
  },
  {
   "cell_type": "code",
   "execution_count": 12,
   "metadata": {
    "execution": {
     "iopub.execute_input": "2023-02-09T08:34:06.951403Z",
     "iopub.status.busy": "2023-02-09T08:34:06.951033Z",
     "iopub.status.idle": "2023-02-09T08:35:05.320431Z",
     "shell.execute_reply": "2023-02-09T08:35:05.319621Z",
     "shell.execute_reply.started": "2023-02-09T08:34:06.951365Z"
    }
   },
   "outputs": [
    {
     "name": "stderr",
     "output_type": "stream",
     "text": [
      "C:\\Users\\nachi\\anaconda3\\envs\\tf\\lib\\site-packages\\bs4\\__init__.py:435: MarkupResemblesLocatorWarning: The input looks more like a filename than markup. You may want to open this file and pass the filehandle into Beautiful Soup.\n",
      "  warnings.warn(\n"
     ]
    },
    {
     "name": "stdout",
     "output_type": "stream",
     "text": [
      "236/236 [==============================] - 37s 146ms/step\n"
     ]
    }
   ],
   "source": [
    "# Reading given test dataset \n",
    "\n",
    "test = pd.read_csv(test_cur_comp)\n",
    "\n",
    "test[\"text\"] = clean_data(test[\"text\"])\n",
    "x_test = tokenizer.texts_to_sequences(test[\"text\"].values)\n",
    "x_test = pad_sequences(x_test, maxlen = max_sequence_length)\n",
    "\n",
    "pred = model.predict(x_test)"
   ]
  },
  {
   "cell_type": "code",
   "execution_count": 13,
   "metadata": {
    "execution": {
     "iopub.execute_input": "2023-02-09T08:35:05.322323Z",
     "iopub.status.busy": "2023-02-09T08:35:05.322029Z",
     "iopub.status.idle": "2023-02-09T08:35:05.345653Z",
     "shell.execute_reply": "2023-02-09T08:35:05.344967Z",
     "shell.execute_reply.started": "2023-02-09T08:35:05.322286Z"
    }
   },
   "outputs": [],
   "source": [
    "# Making submission file\n",
    "\n",
    "final = pd.DataFrame()\n",
    "final[\"comment_id\"] = test[\"comment_id\"]\n",
    "final[\"score\"] = pred\n",
    "final.to_csv(\"submission.csv\", index=False)"
   ]
  },
  {
   "cell_type": "code",
   "execution_count": 14,
   "metadata": {
    "execution": {
     "iopub.execute_input": "2023-02-09T08:35:05.359365Z",
     "iopub.status.busy": "2023-02-09T08:35:05.358803Z",
     "iopub.status.idle": "2023-02-09T08:35:05.372056Z",
     "shell.execute_reply": "2023-02-09T08:35:05.371385Z",
     "shell.execute_reply.started": "2023-02-09T08:35:05.359324Z"
    }
   },
   "outputs": [
    {
     "data": {
      "text/html": [
       "<div>\n",
       "<style scoped>\n",
       "    .dataframe tbody tr th:only-of-type {\n",
       "        vertical-align: middle;\n",
       "    }\n",
       "\n",
       "    .dataframe tbody tr th {\n",
       "        vertical-align: top;\n",
       "    }\n",
       "\n",
       "    .dataframe thead th {\n",
       "        text-align: right;\n",
       "    }\n",
       "</style>\n",
       "<table border=\"1\" class=\"dataframe\">\n",
       "  <thead>\n",
       "    <tr style=\"text-align: right;\">\n",
       "      <th></th>\n",
       "      <th>comment_id</th>\n",
       "      <th>score</th>\n",
       "    </tr>\n",
       "  </thead>\n",
       "  <tbody>\n",
       "    <tr>\n",
       "      <th>0</th>\n",
       "      <td>114890</td>\n",
       "      <td>0.007382</td>\n",
       "    </tr>\n",
       "    <tr>\n",
       "      <th>1</th>\n",
       "      <td>732895</td>\n",
       "      <td>0.020859</td>\n",
       "    </tr>\n",
       "    <tr>\n",
       "      <th>2</th>\n",
       "      <td>1139051</td>\n",
       "      <td>0.018533</td>\n",
       "    </tr>\n",
       "    <tr>\n",
       "      <th>3</th>\n",
       "      <td>1434512</td>\n",
       "      <td>0.176521</td>\n",
       "    </tr>\n",
       "    <tr>\n",
       "      <th>4</th>\n",
       "      <td>2084821</td>\n",
       "      <td>0.842160</td>\n",
       "    </tr>\n",
       "  </tbody>\n",
       "</table>\n",
       "</div>"
      ],
      "text/plain": [
       "   comment_id     score\n",
       "0      114890  0.007382\n",
       "1      732895  0.020859\n",
       "2     1139051  0.018533\n",
       "3     1434512  0.176521\n",
       "4     2084821  0.842160"
      ]
     },
     "execution_count": 14,
     "metadata": {},
     "output_type": "execute_result"
    }
   ],
   "source": [
    "final.head()"
   ]
  }
 ],
 "metadata": {
  "kernelspec": {
   "display_name": "tf",
   "language": "python",
   "name": "tf"
  },
  "language_info": {
   "codemirror_mode": {
    "name": "ipython",
    "version": 3
   },
   "file_extension": ".py",
   "mimetype": "text/x-python",
   "name": "python",
   "nbconvert_exporter": "python",
   "pygments_lexer": "ipython3",
   "version": "3.10.9"
  }
 },
 "nbformat": 4,
 "nbformat_minor": 4
}
